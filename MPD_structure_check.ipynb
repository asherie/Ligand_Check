{
 "metadata": {
  "name": ""
 },
 "nbformat": 3,
 "nbformat_minor": 0,
 "worksheets": [
  {
   "cells": [
    {
     "cell_type": "markdown",
     "metadata": {},
     "source": [
      "# Checking the structure of small molecules in the Protein Data Bank#\n",
      "### Notebook by Neer Asherie ###"
     ]
    },
    {
     "cell_type": "markdown",
     "metadata": {},
     "source": [
      "**Non-Technical Summary:** The Protein Data Bank (PDB) is a publicly available database of the three-dimensional structures of many proteins. Much work has been done to check that the protein structures in the PDB are correct i.e., the data is relatively clean. However, much less work has been done to check the structures of the small molecules that are attached to the proteins. As a result, this data is dirty, which can be a problem for some applications such as protein crystallization. This notebook looks for dirty data for one specific small molecule. \n",
      "<br />  \n",
      "**Conclusion:** Many of the small molecule structures found do not meet common quality control standards. This result suggests that a data validation tool for small molecules in the PDB should be implemented.  \n",
      "<br />\n",
      "**Technical Summary:** MPD_structure_check examines the B-factors of 2-methyl-2,4-pentanediol molecules (MPD) found in the Protein Data Bank (PDB) and outputs any anomalous structures found. The input required is a list of PDB IDs to be examined (here a CSV file is used). \n",
      "\n",
      "The motivation for the project came from our publication on lysozyme and MPD:\n",
      "M. Stauber, J. Jakoncic, J. Berger, J.M. Karp, A. Axelbaum, D. Sastow, S.V. Buldyrev, B.J. Hrnjez and N. Asherie, *Crystallization of lysozyme with (R)-, (S)- and (RS)-2-methyl-2,4-pentanediol,* Acta Cryst. D 71, 427-441 (2015).\n",
      "\n",
      "As part of the work, we analyzed the conformations of MPD found in the PDB. I realized that while the B-factors of protein molecules are assessed before depositon, much less quality control work is done on the small molecules such as MPD that bind to them.\n",
      "\n",
      "In the long term, I plan to develop a tool for validation of ligands in the PDB similar to what is available for protein. As I first step, I decided to check the B-factors of the MPD molecules that we examined in our publication. These B-factors are assessed in two ways: average B-factor for all the atoms in the molecules and coefficient of variation (standard deviation over mean). The user sets the maximum average B-factor and maximum coeffient of variation deemed acceptable. The output is a text file listing all the problematic molecules. "
     ]
    },
    {
     "cell_type": "markdown",
     "metadata": {},
     "source": [
      "Load modules."
     ]
    },
    {
     "cell_type": "code",
     "collapsed": false,
     "input": [
      "import os\n",
      "import datetime\n",
      "import pandas as pd\n",
      "import pandas.io.data\n",
      "import matplotlib.pyplot as plt\n",
      "import numpy as np\n",
      "import scipy as sp\n",
      "import scipy.stats as stats  \n",
      "from Bio.PDB import *"
     ],
     "language": "python",
     "metadata": {},
     "outputs": [],
     "prompt_number": 3
    },
    {
     "cell_type": "markdown",
     "metadata": {},
     "source": [
      "Import list of structures to be analyzed."
     ]
    },
    {
     "cell_type": "code",
     "collapsed": false,
     "input": [
      "# Import list of PDB files to be analyzed. Here I work with those from our publication: \n",
      "# M. Stauber, J. Jakoncic, J. Berger, J.M. Karp, A. Axelbaum, D. Sastow, S.V. Buldyrev, B.J. Hrnjez and N. Asherie, \n",
      "# \"Crystallization of lysozyme with (R)-, (S)- and (RS)-2-methyl-2,4-pentanediol,\" Acta Cryst. D 71, 427-441 (2015)\n",
      "PDB_filenames = pd.read_csv('/Users/asherie/MyMPD/list_of_pdbs_analyzed_final.csv') \n",
      "PDB_filenames "
     ],
     "language": "python",
     "metadata": {},
     "outputs": [
      {
       "html": [
        "<pre>\n",
        "&lt;class 'pandas.core.frame.DataFrame'&gt;\n",
        "Int64Index: 95 entries, 0 to 94\n",
        "Data columns (total 1 columns):\n",
        "name    95  non-null values\n",
        "dtypes: object(1)\n",
        "</pre>"
       ],
       "metadata": {},
       "output_type": "pyout",
       "prompt_number": 7,
       "text": [
        "<class 'pandas.core.frame.DataFrame'>\n",
        "Int64Index: 95 entries, 0 to 94\n",
        "Data columns (total 1 columns):\n",
        "name    95  non-null values\n",
        "dtypes: object(1)"
       ]
      }
     ],
     "prompt_number": 7
    },
    {
     "cell_type": "markdown",
     "metadata": {},
     "source": [
      "Look at first few lines. Expect list of Protein Data Bank IDs (four characters)."
     ]
    },
    {
     "cell_type": "code",
     "collapsed": false,
     "input": [
      "PDB_filenames.head()"
     ],
     "language": "python",
     "metadata": {},
     "outputs": [
      {
       "html": [
        "<div style=\"max-height:1000px;max-width:1500px;overflow:auto;\">\n",
        "<table border=\"1\" class=\"dataframe\">\n",
        "  <thead>\n",
        "    <tr style=\"text-align: right;\">\n",
        "      <th></th>\n",
        "      <th>name</th>\n",
        "    </tr>\n",
        "  </thead>\n",
        "  <tbody>\n",
        "    <tr>\n",
        "      <th>0</th>\n",
        "      <td> 1BYZ</td>\n",
        "    </tr>\n",
        "    <tr>\n",
        "      <th>1</th>\n",
        "      <td> 1DPW</td>\n",
        "    </tr>\n",
        "    <tr>\n",
        "      <th>2</th>\n",
        "      <td> 1I4U</td>\n",
        "    </tr>\n",
        "    <tr>\n",
        "      <th>3</th>\n",
        "      <td> 1I7J</td>\n",
        "    </tr>\n",
        "    <tr>\n",
        "      <th>4</th>\n",
        "      <td> 1J2R</td>\n",
        "    </tr>\n",
        "  </tbody>\n",
        "</table>\n",
        "</div>"
       ],
       "metadata": {},
       "output_type": "pyout",
       "prompt_number": 8,
       "text": [
        "   name\n",
        "0  1BYZ\n",
        "1  1DPW\n",
        "2  1I4U\n",
        "3  1I7J\n",
        "4  1J2R"
       ]
      }
     ],
     "prompt_number": 8
    },
    {
     "cell_type": "markdown",
     "metadata": {},
     "source": [
      "Download these files from the Protein Data Bank."
     ]
    },
    {
     "cell_type": "code",
     "collapsed": false,
     "input": [
      "# Download files in dataframe from Protein Data Bank (www.rcsb.org) \n",
      "for x in PDB_filenames['name']:\n",
      "    pdbl = PDBList()\n",
      "    pdbl.retrieve_pdb_file(x, pdir='/Users/asherie/MyMPD/PDBfiles')"
     ],
     "language": "python",
     "metadata": {},
     "outputs": [
      {
       "output_type": "stream",
       "stream": "stdout",
       "text": [
        "Structure exists: '/Users/asherie/MyMPD/PDBfiles/pdb1byz.ent' \n",
        "Structure exists: '/Users/asherie/MyMPD/PDBfiles/pdb1dpw.ent' \n",
        "Structure exists: '/Users/asherie/MyMPD/PDBfiles/pdb1i4u.ent' \n",
        "Structure exists: '/Users/asherie/MyMPD/PDBfiles/pdb1i7j.ent' \n",
        "Structure exists: '/Users/asherie/MyMPD/PDBfiles/pdb1j2r.ent' \n",
        "Structure exists: '/Users/asherie/MyMPD/PDBfiles/pdb1jlt.ent' \n",
        "Structure exists: '/Users/asherie/MyMPD/PDBfiles/pdb1kw3.ent' \n",
        "Structure exists: '/Users/asherie/MyMPD/PDBfiles/pdb1lk2.ent' \n",
        "Structure exists: '/Users/asherie/MyMPD/PDBfiles/pdb1lu0.ent' \n",
        "Structure exists: '/Users/asherie/MyMPD/PDBfiles/pdb1n13.ent' \n",
        "Structure exists: '/Users/asherie/MyMPD/PDBfiles/pdb1n7s.ent' \n",
        "Structure exists: '/Users/asherie/MyMPD/PDBfiles/pdb1n8k.ent' \n",
        "Structure exists: '/Users/asherie/MyMPD/PDBfiles/pdb1n9b.ent' \n",
        "Structure exists: '/Users/asherie/MyMPD/PDBfiles/pdb1rdq.ent' \n",
        "Structure exists: '/Users/asherie/MyMPD/PDBfiles/pdb1t60.ent' \n",
        "Structure exists: '/Users/asherie/MyMPD/PDBfiles/pdb1vqs.ent' \n",
        "Structure exists: '/Users/asherie/MyMPD/PDBfiles/pdb1x54.ent' \n",
        "Structure exists: '/Users/asherie/MyMPD/PDBfiles/pdb2bfd.ent' \n",
        "Structure exists: '/Users/asherie/MyMPD/PDBfiles/pdb2bjk.ent' \n",
        "Structure exists: '/Users/asherie/MyMPD/PDBfiles/pdb2cvi.ent' \n",
        "Structure exists: '/Users/asherie/MyMPD/PDBfiles/pdb2e7z.ent' \n",
        "Structure exists: '/Users/asherie/MyMPD/PDBfiles/pdb2eiy.ent' \n",
        "Structure exists: '/Users/asherie/MyMPD/PDBfiles/pdb2fcw.ent' \n",
        "Structure exists: '/Users/asherie/MyMPD/PDBfiles/pdb2fup.ent' \n",
        "Structure exists: '/Users/asherie/MyMPD/PDBfiles/pdb2g1u.ent' \n",
        "Structure exists: '/Users/asherie/MyMPD/PDBfiles/pdb2hax.ent' \n",
        "Structure exists: '/Users/asherie/MyMPD/PDBfiles/pdb2hej.ent' \n",
        "Structure exists: '/Users/asherie/MyMPD/PDBfiles/pdb2j45.ent' \n",
        "Structure exists: '/Users/asherie/MyMPD/PDBfiles/pdb2mcm.ent' \n",
        "Structure exists: '/Users/asherie/MyMPD/PDBfiles/pdb2ot4.ent' \n",
        "Structure exists: '/Users/asherie/MyMPD/PDBfiles/pdb2pgo.ent' \n",
        "Structure exists: '/Users/asherie/MyMPD/PDBfiles/pdb2pq7.ent' \n",
        "Structure exists: '/Users/asherie/MyMPD/PDBfiles/pdb2qmt.ent' \n",
        "Structure exists: '/Users/asherie/MyMPD/PDBfiles/pdb2rbt.ent' \n",
        "Structure exists: '/Users/asherie/MyMPD/PDBfiles/pdb2rh2.ent' \n",
        "Structure exists: '/Users/asherie/MyMPD/PDBfiles/pdb2rkl.ent' \n",
        "Structure exists: '/Users/asherie/MyMPD/PDBfiles/pdb2vzc.ent' \n",
        "Structure exists: '/Users/asherie/MyMPD/PDBfiles/pdb2x0a.ent' \n",
        "Structure exists: '/Users/asherie/MyMPD/PDBfiles/pdb2x8s.ent' \n",
        "Structure exists: '/Users/asherie/MyMPD/PDBfiles/pdb2xu9.ent' \n",
        "Structure exists: '/Users/asherie/MyMPD/PDBfiles/pdb2z2f.ent' \n",
        "Structure exists: '/Users/asherie/MyMPD/PDBfiles/pdb2zux.ent' \n",
        "Structure exists: '/Users/asherie/MyMPD/PDBfiles/pdb3a1s.ent' \n",
        "Structure exists: '/Users/asherie/MyMPD/PDBfiles/pdb3a71.ent' \n",
        "Structure exists: '/Users/asherie/MyMPD/PDBfiles/pdb3ap9.ent' \n",
        "Structure exists: '/Users/asherie/MyMPD/PDBfiles/pdb3b72.ent' \n",
        "Structure exists: '/Users/asherie/MyMPD/PDBfiles/pdb3bvu.ent' \n",
        "Structure exists: '/Users/asherie/MyMPD/PDBfiles/pdb3bvx.ent' \n",
        "Structure exists: '/Users/asherie/MyMPD/PDBfiles/pdb3bwy.ent' \n",
        "Structure exists: '/Users/asherie/MyMPD/PDBfiles/pdb3ey3.ent' \n",
        "Structure exists: '/Users/asherie/MyMPD/PDBfiles/pdb3fea.ent' \n",
        "Structure exists: '/Users/asherie/MyMPD/PDBfiles/pdb3g0k.ent' \n",
        "Structure exists: '/Users/asherie/MyMPD/PDBfiles/pdb3gfa.ent' \n",
        "Structure exists: '/Users/asherie/MyMPD/PDBfiles/pdb3gg7.ent' \n",
        "Structure exists: '/Users/asherie/MyMPD/PDBfiles/pdb3gp6.ent' \n",
        "Structure exists: '/Users/asherie/MyMPD/PDBfiles/pdb3gzb.ent' \n",
        "Structure exists: '/Users/asherie/MyMPD/PDBfiles/pdb3h4o.ent' \n",
        "Structure exists: '/Users/asherie/MyMPD/PDBfiles/pdb3hyn.ent' \n",
        "Structure exists: '/Users/asherie/MyMPD/PDBfiles/pdb3ln3.ent' \n",
        "Structure exists: '/Users/asherie/MyMPD/PDBfiles/pdb3mmh.ent' \n",
        "Structure exists: '/Users/asherie/MyMPD/PDBfiles/pdb3nds.ent' \n",
        "Structure exists: '/Users/asherie/MyMPD/PDBfiles/pdb3njn.ent' \n",
        "Structure exists: '/Users/asherie/MyMPD/PDBfiles/pdb3nrf.ent' \n",
        "Structure exists: '/Users/asherie/MyMPD/PDBfiles/pdb3o3x.ent' \n",
        "Structure exists: '/Users/asherie/MyMPD/PDBfiles/pdb3oli.ent' \n",
        "Structure exists: '/Users/asherie/MyMPD/PDBfiles/pdb3pp5.ent' \n",
        "Structure exists: '/Users/asherie/MyMPD/PDBfiles/pdb3pvk.ent' \n",
        "Structure exists: '/Users/asherie/MyMPD/PDBfiles/pdb3q70.ent' \n",
        "Structure exists: '/Users/asherie/MyMPD/PDBfiles/pdb3r1m.ent' \n",
        "Structure exists: '/Users/asherie/MyMPD/PDBfiles/pdb3rm3.ent' \n",
        "Structure exists: '/Users/asherie/MyMPD/PDBfiles/pdb3run.ent' \n",
        "Structure exists: '/Users/asherie/MyMPD/PDBfiles/pdb3ry1.ent' \n",
        "Structure exists: '/Users/asherie/MyMPD/PDBfiles/pdb3sgp.ent' \n",
        "Structure exists: '/Users/asherie/MyMPD/PDBfiles/pdb3sx2.ent' \n",
        "Structure exists: '/Users/asherie/MyMPD/PDBfiles/pdb3t9g.ent' \n",
        "Structure exists: '/Users/asherie/MyMPD/PDBfiles/pdb3tme.ent' \n",
        "Structure exists: '/Users/asherie/MyMPD/PDBfiles/pdb3u3h.ent' \n",
        "Structure exists: '/Users/asherie/MyMPD/PDBfiles/pdb3u8o.ent' \n",
        "Structure exists: '/Users/asherie/MyMPD/PDBfiles/pdb3u8r.ent' \n",
        "Structure exists: '/Users/asherie/MyMPD/PDBfiles/pdb3vwc.ent' \n",
        "Structure exists: '/Users/asherie/MyMPD/PDBfiles/pdb3w04.ent' \n",
        "Structure exists: '/Users/asherie/MyMPD/PDBfiles/pdb3zzr.ent' \n",
        "Structure exists: '/Users/asherie/MyMPD/PDBfiles/pdb4a6q.ent' \n",
        "Structure exists: '/Users/asherie/MyMPD/PDBfiles/pdb4a8u.ent' \n",
        "Structure exists: '/Users/asherie/MyMPD/PDBfiles/pdb4b4e.ent' \n",
        "Structure exists: '/Users/asherie/MyMPD/PDBfiles/pdb4b4i.ent' \n",
        "Structure exists: '/Users/asherie/MyMPD/PDBfiles/pdb4b4j.ent' \n",
        "Structure exists: '/Users/asherie/MyMPD/PDBfiles/pdb4dui.ent' \n",
        "Structure exists: '/Users/asherie/MyMPD/PDBfiles/pdb4dxh.ent' \n",
        "Structure exists: '/Users/asherie/MyMPD/PDBfiles/pdb4f87.ent' \n",
        "Structure exists: '/Users/asherie/MyMPD/PDBfiles/pdb4f9t.ent' \n",
        "Structure exists: '/Users/asherie/MyMPD/PDBfiles/pdb4ggc.ent' \n",
        "Structure exists: '/Users/asherie/MyMPD/PDBfiles/pdb4gzn.ent' \n",
        "Structure exists: '/Users/asherie/MyMPD/PDBfiles/pdb4h15.ent' \n",
        "Structure exists: '/Users/asherie/MyMPD/PDBfiles/pdb4reo.ent' \n"
       ]
      }
     ],
     "prompt_number": 6
    },
    {
     "cell_type": "markdown",
     "metadata": {},
     "source": [
      "Define a function to check the structures. It writes the information about the unacceptable structures to a file. It also returns the number of unacceptable structures to provide a sense of how much data cleaning will be needed."
     ]
    },
    {
     "cell_type": "code",
     "collapsed": false,
     "input": [
      "def bfcheck(name):\n",
      "    b_avg_max = 40  # Maximum average b-factor that is acceptable\n",
      "    b_cv_max = 0.2 # Maximum coeffient of variation that is acceptable\n",
      "    count = 0.0    # Counts number of molecules that are unacceptable (each conformer counted separately)\n",
      "    parser = PDBParser(QUIET=True) # Suppresses warnings about discontinuous protein chains\n",
      "    structure = parser.get_structure(name, name)\n",
      "    with open('mpdcheck.txt', 'a') as f:\n",
      "        for residue in structure.get_residues():\n",
      "            if residue.get_resname()=='MPD' or residue.get_resname()=='MRD': # MPD = (S)-MPD; MRD = (R)-MPD\n",
      "                if residue.is_disordered()==1:\n",
      "                    atom_name_a = []\n",
      "                    atom_bfactor_a = []\n",
      "                    for atom in residue:\n",
      "                        atom.disordered_select('A')\n",
      "                        atom_name_a.append(atom.get_name())\n",
      "                        atom_bfactor_a.append(atom.get_bfactor())\n",
      "                    # Statistics check for average B-factor and coefficent of variation\n",
      "                    # If acceptable limits are exceeded, output info about problematic residue to file.\n",
      "                    mean_a = np.mean(atom_bfactor_a)\n",
      "                    if mean_a > b_avg_max or np.std(atom_bfactor_a)/mean_a > b_cv_max:\n",
      "                        count += 1.0\n",
      "                        f.write('\\n' + str(structure) + '\\n')\n",
      "                        f.write(str(residue.get_parent()) + '\\n')\n",
      "                        f.write(str(residue) + '\\n')\n",
      "                        f.write('Residue has at least two conformations\\n')\n",
      "                        f.write('Conformer A\\n')\n",
      "                       # f.write(str(atom_name_a) + '\\n')  # Uncomment to include atom names\n",
      "                       # f.write(str(atom_bfactor_a) + '\\n') # Uncomment to include atom B-factors\n",
      "                    if mean_a > b_avg_max:\n",
      "                        f.write('Average B-factor is high\\n')\n",
      "                    if np.std(atom_bfactor_a)/mean_a > b_cv_max:\n",
      "                        f.write('Coefficient of variation is high\\n')   \n",
      "                    atom_name_b = []\n",
      "                    atom_bfactor_b = []\n",
      "                    for atom in residue:  \n",
      "                        atom.disordered_select('B')\n",
      "                        atom_name_b.append(atom.get_name())\n",
      "                        atom_bfactor_b.append(atom.get_bfactor())\n",
      "                    mean_b = np.mean(atom_bfactor_b)\n",
      "                    if mean_a > b_avg_max or np.std(atom_bfactor_a)/mean_a > b_cv_max:    \n",
      "                        f.write('Conformer B\\n')\n",
      "                        count += 1.0\n",
      "                        # f.write(str(atom_name_b) + '\\n')\n",
      "                        # f.write(str(atom_bfactor_b) + '\\n')\n",
      "                    if mean_b > b_avg_max:\n",
      "                        f.write('Average B-factor is high\\n')  \n",
      "                    if np.std(atom_bfactor_b)/mean_b > b_cv_max:\n",
      "                        f.write('Coefficient of variation is high\\n')  \n",
      "                else:     \n",
      "                    atom_name = []\n",
      "                    atom_bfactor = []\n",
      "                    for atom in residue:\n",
      "                        atom_name.append(atom.get_name())\n",
      "                        atom_bfactor.append(atom.get_bfactor()) \n",
      "                    mean = np.mean(atom_bfactor)\n",
      "                    if mean > b_avg_max or np.std(atom_bfactor)/mean > b_cv_max:\n",
      "                        count += 1.0\n",
      "                        f.write('\\n' + str(structure) + '\\n')\n",
      "                        f.write(str(residue.get_parent()) + '\\n')\n",
      "                        f.write(str(residue) + '\\n')\n",
      "                        # f.write(str(atom_name) + '\\n')\n",
      "                        # f.write(str(atom_bfactor) + '\\n')\n",
      "                    if mean > b_avg_max:\n",
      "                        f.write(\"Average B-factor is high\\n\")\n",
      "                    if np.std(atom_bfactor)/mean > b_cv_max:\n",
      "                        f.write(\"Coefficient of variation is high\\n\")    \n",
      "    return count"
     ],
     "language": "python",
     "metadata": {},
     "outputs": [],
     "prompt_number": 9
    },
    {
     "cell_type": "markdown",
     "metadata": {},
     "source": [
      "Examine all of the small molcules in the files that have been downloaded from the PDB."
     ]
    },
    {
     "cell_type": "code",
     "collapsed": false,
     "input": [
      "# Check B-factors of all files in specified location\n",
      "os.chdir('/Users/asherie/MyMPD/PDBfiles')\n",
      "count_final = 0.0\n",
      "for root, dirs, files in os.walk('/Users/asherie/MyMPD/PDBfiles'):\n",
      "    for name in files:\n",
      "        if  name.startswith('.'):\n",
      "            continue # Ignore system files\n",
      "        else:    \n",
      "            count_final += bfcheck(name)\n",
      "            \n",
      "print(\"There are %.f molecules to be checked\" % count_final)"
     ],
     "language": "python",
     "metadata": {},
     "outputs": [
      {
       "output_type": "stream",
       "stream": "stdout",
       "text": [
        "There are 111 molecules to be checked\n"
       ]
      }
     ],
     "prompt_number": 11
    },
    {
     "cell_type": "code",
     "collapsed": false,
     "input": [],
     "language": "python",
     "metadata": {},
     "outputs": [],
     "prompt_number": 7
    },
    {
     "cell_type": "code",
     "collapsed": false,
     "input": [],
     "language": "python",
     "metadata": {},
     "outputs": []
    }
   ],
   "metadata": {}
  }
 ]
}